{
 "cells": [
  {
   "cell_type": "markdown",
   "metadata": {},
   "source": [
    "### Exploratory Data Analysis"
   ]
  },
  {
   "cell_type": "code",
   "execution_count": 16,
   "metadata": {},
   "outputs": [],
   "source": [
    "import pandas as pd\n",
    "import numpy as np\n",
    "from sklearn.feature_extraction.text import CountVectorizer, TfidfVectorizer\n",
    "from nltk.tokenize import RegexpTokenizer\n",
    "import regex as re\n",
    "import emoji\n",
    "import matplotlib.pyplot as plt"
   ]
  },
  {
   "cell_type": "code",
   "execution_count": 17,
   "metadata": {},
   "outputs": [],
   "source": [
    "# read in data\n",
    "\n",
    "data = pd.read_csv('./data/reddit_working_cleaned.csv')"
   ]
  },
  {
   "cell_type": "code",
   "execution_count": 18,
   "metadata": {
    "scrolled": true
   },
   "outputs": [
    {
     "data": {
      "text/html": [
       "<div>\n",
       "<style scoped>\n",
       "    .dataframe tbody tr th:only-of-type {\n",
       "        vertical-align: middle;\n",
       "    }\n",
       "\n",
       "    .dataframe tbody tr th {\n",
       "        vertical-align: top;\n",
       "    }\n",
       "\n",
       "    .dataframe thead th {\n",
       "        text-align: right;\n",
       "    }\n",
       "</style>\n",
       "<table border=\"1\" class=\"dataframe\">\n",
       "  <thead>\n",
       "    <tr style=\"text-align: right;\">\n",
       "      <th></th>\n",
       "      <th>created_utc</th>\n",
       "      <th>selftext</th>\n",
       "      <th>subreddit</th>\n",
       "      <th>title</th>\n",
       "    </tr>\n",
       "  </thead>\n",
       "  <tbody>\n",
       "    <tr>\n",
       "      <th>47641</th>\n",
       "      <td>1421701672</td>\n",
       "      <td>how do they get the particles and find their entangled pairs  i just cant imagine any way they would obtain them</td>\n",
       "      <td>askscience</td>\n",
       "      <td>How do people who study entangled particles get those particles?</td>\n",
       "    </tr>\n",
       "    <tr>\n",
       "      <th>47642</th>\n",
       "      <td>1417723027</td>\n",
       "      <td>the delta iv rocket isn t that new  so what is actually being tested</td>\n",
       "      <td>askscience</td>\n",
       "      <td>What is the goal/purpose of the Orion test launch?</td>\n",
       "    </tr>\n",
       "    <tr>\n",
       "      <th>47643</th>\n",
       "      <td>1519983877</td>\n",
       "      <td>this doesn t seem to be true of all icicles  especially the smaller onee  but most of the large ones  30cm   appear to have this ribbed affect  what s causing this</td>\n",
       "      <td>askscience</td>\n",
       "      <td>Why do large icicles appear ribbed?</td>\n",
       "    </tr>\n",
       "    <tr>\n",
       "      <th>47644</th>\n",
       "      <td>1432885551</td>\n",
       "      <td>i know that nature only deals with the d and l isomers of saccharides and amino acids respectively  but stereoisomers of such molecules can be synthesized in the lab  if i walked into a  r ubway and ordered a sandwich consisting of l isomer carbohydrates and with protein made of d amino acids  how would it taste  would i be able to metabolize any of it   as a secondary question  what if there were bacteria on the sandwich with dextrorotatory dna and rna who also transcribed proteins with d a...</td>\n",
       "      <td>askscience</td>\n",
       "      <td>What would happen if you tried to eat a sandwich with L-Sugars and D-Amino Acids?</td>\n",
       "    </tr>\n",
       "    <tr>\n",
       "      <th>47645</th>\n",
       "      <td>1491402075</td>\n",
       "      <td>i ve seen the maps of the ice sheets in north america and europe before  extending roughly to 40 degrees north   and it made me wonder how far the sheets extended in south america  i was surprised to see that the antarctic sheet didn t even reach south america  55 degrees south</td>\n",
       "      <td>askscience</td>\n",
       "      <td>Why was the southern hemisphere ice sheet smaller than the northern hemisphere in the last glacial maximum?</td>\n",
       "    </tr>\n",
       "  </tbody>\n",
       "</table>\n",
       "</div>"
      ],
      "text/plain": [
       "       created_utc  \\\n",
       "47641   1421701672   \n",
       "47642   1417723027   \n",
       "47643   1519983877   \n",
       "47644   1432885551   \n",
       "47645   1491402075   \n",
       "\n",
       "                                                                                                                                                                                                                                                                                                                                                                                                                                                                                                                  selftext  \\\n",
       "47641                                                                                                                                                                                                                                                                                                                                                                                                     how do they get the particles and find their entangled pairs  i just cant imagine any way they would obtain them   \n",
       "47642                                                                                                                                                                                                                                                                                                                                                                                                                                                 the delta iv rocket isn t that new  so what is actually being tested   \n",
       "47643                                                                                                                                                                                                                                                                                                                                                  this doesn t seem to be true of all icicles  especially the smaller onee  but most of the large ones  30cm   appear to have this ribbed affect  what s causing this   \n",
       "47644  i know that nature only deals with the d and l isomers of saccharides and amino acids respectively  but stereoisomers of such molecules can be synthesized in the lab  if i walked into a  r ubway and ordered a sandwich consisting of l isomer carbohydrates and with protein made of d amino acids  how would it taste  would i be able to metabolize any of it   as a secondary question  what if there were bacteria on the sandwich with dextrorotatory dna and rna who also transcribed proteins with d a...   \n",
       "47645                                                                                                                                                                                                                               i ve seen the maps of the ice sheets in north america and europe before  extending roughly to 40 degrees north   and it made me wonder how far the sheets extended in south america  i was surprised to see that the antarctic sheet didn t even reach south america  55 degrees south   \n",
       "\n",
       "        subreddit  \\\n",
       "47641  askscience   \n",
       "47642  askscience   \n",
       "47643  askscience   \n",
       "47644  askscience   \n",
       "47645  askscience   \n",
       "\n",
       "                                                                                                             title  \n",
       "47641                                             How do people who study entangled particles get those particles?  \n",
       "47642                                                           What is the goal/purpose of the Orion test launch?  \n",
       "47643                                                                          Why do large icicles appear ribbed?  \n",
       "47644                            What would happen if you tried to eat a sandwich with L-Sugars and D-Amino Acids?  \n",
       "47645  Why was the southern hemisphere ice sheet smaller than the northern hemisphere in the last glacial maximum?  "
      ]
     },
     "execution_count": 18,
     "metadata": {},
     "output_type": "execute_result"
    }
   ],
   "source": [
    "# inspect scifi data - first and last five rows\n",
    "\n",
    "data.head()\n",
    "data.tail()"
   ]
  },
  {
   "cell_type": "markdown",
   "metadata": {},
   "source": [
    "#### EDA"
   ]
  },
  {
   "cell_type": "markdown",
   "metadata": {},
   "source": [
    "**Most Frequent Words by Subreddit**"
   ]
  },
  {
   "cell_type": "code",
   "execution_count": 20,
   "metadata": {},
   "outputs": [],
   "source": [
    "# select selftext from the askscience subreddit\n",
    "\n",
    "science = data['selftext'][data['subreddit'] == 'askscience']"
   ]
  },
  {
   "cell_type": "code",
   "execution_count": 21,
   "metadata": {},
   "outputs": [
    {
     "data": {
      "text/plain": [
       "pandas.core.series.Series"
      ]
     },
     "execution_count": 21,
     "metadata": {},
     "output_type": "execute_result"
    }
   ],
   "source": [
    "# select selftext from scifi subreddit\n",
    "\n",
    "scifi = data['selftext'][data['subreddit'] == 'scifi']\n",
    "type(scifi)"
   ]
  },
  {
   "cell_type": "code",
   "execution_count": 22,
   "metadata": {},
   "outputs": [
    {
     "data": {
      "text/plain": [
       "<23628x20 sparse matrix of type '<class 'numpy.int64'>'\n",
       "\twith 80311 stored elements in Compressed Sparse Row format>"
      ]
     },
     "execution_count": 22,
     "metadata": {},
     "output_type": "execute_result"
    }
   ],
   "source": [
    "# instantiate CountVectorizer\n",
    "# countvectorize selftext\n",
    "\n",
    "cv_science = CountVectorizer(max_features=20,\n",
    "                     stop_words='english')\n",
    "cv_science.fit_transform(science)\n",
    "\n",
    "cv_scifi = CountVectorizer(max_features=20,\n",
    "                           stop_words='english')\n",
    "cv_scifi.fit_transform(scifi)\n",
    "\n",
    "# idea taken and adapted from Dereje Workneh"
   ]
  },
  {
   "cell_type": "code",
   "execution_count": 23,
   "metadata": {},
   "outputs": [
    {
     "name": "stdout",
     "output_type": "stream",
     "text": [
      "['different', 'does', 'don', 'earth', 'energy', 'example', 'just', 'know', 'light', 'like', 'make', 'possible', 'question', 'say', 'space', 'time', 'understand', 've', 'water', 'way']\n"
     ]
    }
   ],
   "source": [
    "science_words = cv_science.get_feature_names()\n",
    "print(science_words)"
   ]
  },
  {
   "cell_type": "code",
   "execution_count": 24,
   "metadata": {},
   "outputs": [
    {
     "name": "stdout",
     "output_type": "stream",
     "text": [
      "['book', 'books', 'don', 'fi', 'good', 'just', 'know', 'like', 'new', 'people', 'read', 'really', 'sci', 'series', 'space', 'star', 'story', 'think', 'time', 've']\n"
     ]
    }
   ],
   "source": [
    "scifi_words = cv_scifi.get_feature_names()\n",
    "print(scifi_words)"
   ]
  },
  {
   "cell_type": "code",
   "execution_count": 25,
   "metadata": {
    "scrolled": true
   },
   "outputs": [
    {
     "ename": "NameError",
     "evalue": "name 'word_set' is not defined",
     "output_type": "error",
     "traceback": [
      "\u001b[0;31m---------------------------------------------------------------------------\u001b[0m",
      "\u001b[0;31mNameError\u001b[0m                                 Traceback (most recent call last)",
      "\u001b[0;32m<ipython-input-25-7026abca06b2>\u001b[0m in \u001b[0;36m<module>\u001b[0;34m\u001b[0m\n\u001b[1;32m      8\u001b[0m             \u001b[0mword_set_scifi\u001b[0m\u001b[0;34m.\u001b[0m\u001b[0madd\u001b[0m\u001b[0;34m(\u001b[0m\u001b[0mw\u001b[0m\u001b[0;34m)\u001b[0m\u001b[0;34m\u001b[0m\u001b[0;34m\u001b[0m\u001b[0m\n\u001b[1;32m      9\u001b[0m     \u001b[0mword_count_scifi\u001b[0m\u001b[0;34m[\u001b[0m\u001b[0mword\u001b[0m\u001b[0;34m]\u001b[0m \u001b[0;34m=\u001b[0m \u001b[0mcount\u001b[0m\u001b[0;34m\u001b[0m\u001b[0;34m\u001b[0m\u001b[0m\n\u001b[0;32m---> 10\u001b[0;31m \u001b[0mfrequency_scifi\u001b[0m \u001b[0;34m=\u001b[0m \u001b[0;34m{\u001b[0m\u001b[0mkeys\u001b[0m\u001b[0;34m:\u001b[0m \u001b[0mround\u001b[0m\u001b[0;34m(\u001b[0m\u001b[0mvalues\u001b[0m\u001b[0;34m/\u001b[0m\u001b[0mlen\u001b[0m\u001b[0;34m(\u001b[0m\u001b[0mword_set\u001b[0m\u001b[0;34m)\u001b[0m\u001b[0;34m,\u001b[0m \u001b[0;36m2\u001b[0m\u001b[0;34m)\u001b[0m \u001b[0;32mfor\u001b[0m \u001b[0;34m(\u001b[0m\u001b[0mkeys\u001b[0m\u001b[0;34m,\u001b[0m \u001b[0mvalues\u001b[0m\u001b[0;34m)\u001b[0m \u001b[0;32min\u001b[0m \u001b[0mword_count_scifi\u001b[0m\u001b[0;34m.\u001b[0m\u001b[0mitems\u001b[0m\u001b[0;34m(\u001b[0m\u001b[0;34m)\u001b[0m\u001b[0;34m}\u001b[0m\u001b[0;34m\u001b[0m\u001b[0;34m\u001b[0m\u001b[0m\n\u001b[0m\u001b[1;32m     11\u001b[0m \u001b[0mprint\u001b[0m\u001b[0;34m(\u001b[0m\u001b[0mfrequency_scifi\u001b[0m\u001b[0;34m)\u001b[0m\u001b[0;34m\u001b[0m\u001b[0;34m\u001b[0m\u001b[0m\n",
      "\u001b[0;32m<ipython-input-25-7026abca06b2>\u001b[0m in \u001b[0;36m<dictcomp>\u001b[0;34m(.0)\u001b[0m\n\u001b[1;32m      8\u001b[0m             \u001b[0mword_set_scifi\u001b[0m\u001b[0;34m.\u001b[0m\u001b[0madd\u001b[0m\u001b[0;34m(\u001b[0m\u001b[0mw\u001b[0m\u001b[0;34m)\u001b[0m\u001b[0;34m\u001b[0m\u001b[0;34m\u001b[0m\u001b[0m\n\u001b[1;32m      9\u001b[0m     \u001b[0mword_count_scifi\u001b[0m\u001b[0;34m[\u001b[0m\u001b[0mword\u001b[0m\u001b[0;34m]\u001b[0m \u001b[0;34m=\u001b[0m \u001b[0mcount\u001b[0m\u001b[0;34m\u001b[0m\u001b[0;34m\u001b[0m\u001b[0m\n\u001b[0;32m---> 10\u001b[0;31m \u001b[0mfrequency_scifi\u001b[0m \u001b[0;34m=\u001b[0m \u001b[0;34m{\u001b[0m\u001b[0mkeys\u001b[0m\u001b[0;34m:\u001b[0m \u001b[0mround\u001b[0m\u001b[0;34m(\u001b[0m\u001b[0mvalues\u001b[0m\u001b[0;34m/\u001b[0m\u001b[0mlen\u001b[0m\u001b[0;34m(\u001b[0m\u001b[0mword_set\u001b[0m\u001b[0;34m)\u001b[0m\u001b[0;34m,\u001b[0m \u001b[0;36m2\u001b[0m\u001b[0;34m)\u001b[0m \u001b[0;32mfor\u001b[0m \u001b[0;34m(\u001b[0m\u001b[0mkeys\u001b[0m\u001b[0;34m,\u001b[0m \u001b[0mvalues\u001b[0m\u001b[0;34m)\u001b[0m \u001b[0;32min\u001b[0m \u001b[0mword_count_scifi\u001b[0m\u001b[0;34m.\u001b[0m\u001b[0mitems\u001b[0m\u001b[0;34m(\u001b[0m\u001b[0;34m)\u001b[0m\u001b[0;34m}\u001b[0m\u001b[0;34m\u001b[0m\u001b[0;34m\u001b[0m\u001b[0m\n\u001b[0m\u001b[1;32m     11\u001b[0m \u001b[0mprint\u001b[0m\u001b[0;34m(\u001b[0m\u001b[0mfrequency_scifi\u001b[0m\u001b[0;34m)\u001b[0m\u001b[0;34m\u001b[0m\u001b[0;34m\u001b[0m\u001b[0m\n",
      "\u001b[0;31mNameError\u001b[0m: name 'word_set' is not defined"
     ]
    }
   ],
   "source": [
    "count = 0\n",
    "word_set_scifi = set()\n",
    "word_count_scifi = {}\n",
    "for word in scifi_words:\n",
    "    for text in scifi:\n",
    "        count += text.count(word)\n",
    "        for w in text.split():\n",
    "            word_set_scifi.add(w)\n",
    "    word_count_scifi[word] = count\n",
    "frequency_scifi = {keys: round(values/len(word_set), 2) for (keys, values) in word_count_scifi.items()}\n",
    "print(frequency_scifi)"
   ]
  },
  {
   "cell_type": "code",
   "execution_count": 155,
   "metadata": {},
   "outputs": [
    {
     "data": {
      "image/png": "[encoded data removed]",
      "text/plain": [
       "<Figure size 1440x864 with 1 Axes>"
      ]
     },
     "metadata": {
      "needs_background": "light"
     },
     "output_type": "display_data"
    }
   ],
   "source": [
    "plt.figure(figsize= (20, 12))\n",
    "plt.bar(frequency_scifi.keys(), frequency_scifi.values());\n"
   ]
  },
  {
   "cell_type": "code",
   "execution_count": 152,
   "metadata": {},
   "outputs": [
    {
     "name": "stdout",
     "output_type": "stream",
     "text": [
      "{'different': 0.07, 'does': 0.24, 'don': 0.33, 'earth': 0.4, 'energy': 0.48, 'example': 0.53, 'just': 0.67, 'know': 0.83, 'light': 0.94, 'like': 1.11, 'make': 1.18, 'possible': 1.24, 'question': 1.38, 'say': 1.45, 'space': 1.52, 'time': 1.65, 'understand': 1.74, 've': 3.08, 'water': 3.15, 'way': 3.29}\n"
     ]
    }
   ],
   "source": [
    "count = 0\n",
    "word_set = set()\n",
    "word_count_science = {}\n",
    "for word in science_words:\n",
    "    for text in science:\n",
    "        count += text.count(word)\n",
    "        for w in text.split():\n",
    "            word_set.add(w)\n",
    "    word_count_science[word] = count\n",
    "\n",
    "frequency_science = {keys: round(values/len(word_set), 2) for (keys, values) in word_count_science.items()}\n",
    "print(frequency_science)"
   ]
  },
  {
   "cell_type": "code",
   "execution_count": 153,
   "metadata": {},
   "outputs": [
    {
     "data": {
      "image/png": "[encoded data removed]",
      "text/plain": [
       "<Figure size 1440x864 with 1 Axes>"
      ]
     },
     "metadata": {
      "needs_background": "light"
     },
     "output_type": "display_data"
    }
   ],
   "source": [
    "plt.figure(figsize= (20, 12))\n",
    "plt.bar(frequency_science.keys(), frequency_science.values());\n"
   ]
  },
  {
   "cell_type": "markdown",
   "metadata": {},
   "source": []
  },
  {
   "cell_type": "code",
   "execution_count": null,
   "metadata": {},
   "outputs": [],
   "source": []
  }
 ],
 "metadata": {
  "kernelspec": {
   "display_name": "Python 3",
   "language": "python",
   "name": "python3"
  },
  "language_info": {
   "codemirror_mode": {
    "name": "ipython",
    "version": 3
   },
   "file_extension": ".py",
   "mimetype": "text/x-python",
   "name": "python",
   "nbconvert_exporter": "python",
   "pygments_lexer": "ipython3",
   "version": "3.7.6"
  }
 },
 "nbformat": 4,
 "nbformat_minor": 4
}
