{
 "cells": [
  {
   "cell_type": "markdown",
   "metadata": {},
   "source": [
    "### Data Cleaning"
   ]
  },
  {
   "cell_type": "code",
   "execution_count": 73,
   "metadata": {},
   "outputs": [],
   "source": [
    "import pandas as pd\n",
    "import numpy as np"
   ]
  },
  {
   "cell_type": "code",
   "execution_count": 74,
   "metadata": {},
   "outputs": [],
   "source": [
    "# read in scifi data\n",
    "\n",
    "scifi = pd.read_csv('./data/scifi_new-cleaned.csv')"
   ]
  },
  {
   "cell_type": "code",
   "execution_count": 75,
   "metadata": {},
   "outputs": [],
   "source": [
    "# read in askscience data\n",
    "\n",
    "science = pd.read_csv('./data/askscience-cleaned.csv')"
   ]
  },
  {
   "cell_type": "code",
   "execution_count": 76,
   "metadata": {},
   "outputs": [
    {
     "data": {
      "text/html": [
       "<div>\n",
       "<style scoped>\n",
       "    .dataframe tbody tr th:only-of-type {\n",
       "        vertical-align: middle;\n",
       "    }\n",
       "\n",
       "    .dataframe tbody tr th {\n",
       "        vertical-align: top;\n",
       "    }\n",
       "\n",
       "    .dataframe thead th {\n",
       "        text-align: right;\n",
       "    }\n",
       "</style>\n",
       "<table border=\"1\" class=\"dataframe\">\n",
       "  <thead>\n",
       "    <tr style=\"text-align: right;\">\n",
       "      <th></th>\n",
       "      <th>created_utc</th>\n",
       "      <th>id</th>\n",
       "      <th>permalink</th>\n",
       "      <th>selftext</th>\n",
       "      <th>subreddit</th>\n",
       "      <th>subreddit_id</th>\n",
       "      <th>title</th>\n",
       "    </tr>\n",
       "  </thead>\n",
       "  <tbody>\n",
       "    <tr>\n",
       "      <th>96630</th>\n",
       "      <td>1202244450</td>\n",
       "      <td>67rqj</td>\n",
       "      <td>/r/scifi/comments/67rqj/whos_the_worst_bad_guy...</td>\n",
       "      <td>[deleted]</td>\n",
       "      <td>scifi</td>\n",
       "      <td>t5_2qh2z</td>\n",
       "      <td>Who's the worst bad guy of all time?  You gues...</td>\n",
       "    </tr>\n",
       "    <tr>\n",
       "      <th>96631</th>\n",
       "      <td>1201617121</td>\n",
       "      <td>66zem</td>\n",
       "      <td>/r/scifi/comments/66zem/understanding_manga_an...</td>\n",
       "      <td>NaN</td>\n",
       "      <td>scifi</td>\n",
       "      <td>t5_2qh2z</td>\n",
       "      <td>Understanding Manga: An Interview with Robin B...</td>\n",
       "    </tr>\n",
       "    <tr>\n",
       "      <th>96632</th>\n",
       "      <td>1201592426</td>\n",
       "      <td>66yco</td>\n",
       "      <td>/r/scifi/comments/66yco/escape_pod_weekly_sf_s...</td>\n",
       "      <td>NaN</td>\n",
       "      <td>scifi</td>\n",
       "      <td>t5_2qh2z</td>\n",
       "      <td>Escape Pod - weekly SF short story podcast</td>\n",
       "    </tr>\n",
       "    <tr>\n",
       "      <th>96633</th>\n",
       "      <td>1201503994</td>\n",
       "      <td>66tw5</td>\n",
       "      <td>/r/scifi/comments/66tw5/io9_gawkers_science_fi...</td>\n",
       "      <td>NaN</td>\n",
       "      <td>scifi</td>\n",
       "      <td>t5_2qh2z</td>\n",
       "      <td>io9 - Gawker's science fiction site</td>\n",
       "    </tr>\n",
       "    <tr>\n",
       "      <th>96634</th>\n",
       "      <td>1201450476</td>\n",
       "      <td>66rql</td>\n",
       "      <td>/r/scifi/comments/66rql/clive_thompson_on_why_...</td>\n",
       "      <td>NaN</td>\n",
       "      <td>scifi</td>\n",
       "      <td>t5_2qh2z</td>\n",
       "      <td>Clive Thompson on Why Sci-Fi Is the Last Basti...</td>\n",
       "    </tr>\n",
       "  </tbody>\n",
       "</table>\n",
       "</div>"
      ],
      "text/plain": [
       "       created_utc     id                                          permalink  \\\n",
       "96630   1202244450  67rqj  /r/scifi/comments/67rqj/whos_the_worst_bad_guy...   \n",
       "96631   1201617121  66zem  /r/scifi/comments/66zem/understanding_manga_an...   \n",
       "96632   1201592426  66yco  /r/scifi/comments/66yco/escape_pod_weekly_sf_s...   \n",
       "96633   1201503994  66tw5  /r/scifi/comments/66tw5/io9_gawkers_science_fi...   \n",
       "96634   1201450476  66rql  /r/scifi/comments/66rql/clive_thompson_on_why_...   \n",
       "\n",
       "        selftext subreddit subreddit_id  \\\n",
       "96630  [deleted]     scifi     t5_2qh2z   \n",
       "96631        NaN     scifi     t5_2qh2z   \n",
       "96632        NaN     scifi     t5_2qh2z   \n",
       "96633        NaN     scifi     t5_2qh2z   \n",
       "96634        NaN     scifi     t5_2qh2z   \n",
       "\n",
       "                                                   title  \n",
       "96630  Who's the worst bad guy of all time?  You gues...  \n",
       "96631  Understanding Manga: An Interview with Robin B...  \n",
       "96632         Escape Pod - weekly SF short story podcast  \n",
       "96633                io9 - Gawker's science fiction site  \n",
       "96634  Clive Thompson on Why Sci-Fi Is the Last Basti...  "
      ]
     },
     "execution_count": 76,
     "metadata": {},
     "output_type": "execute_result"
    }
   ],
   "source": [
    "# inspect scifi data - first and last five rows\n",
    "\n",
    "scifi.head()\n",
    "scifi.tail()"
   ]
  },
  {
   "cell_type": "code",
   "execution_count": 77,
   "metadata": {},
   "outputs": [
    {
     "data": {
      "text/html": [
       "<div>\n",
       "<style scoped>\n",
       "    .dataframe tbody tr th:only-of-type {\n",
       "        vertical-align: middle;\n",
       "    }\n",
       "\n",
       "    .dataframe tbody tr th {\n",
       "        vertical-align: top;\n",
       "    }\n",
       "\n",
       "    .dataframe thead th {\n",
       "        text-align: right;\n",
       "    }\n",
       "</style>\n",
       "<table border=\"1\" class=\"dataframe\">\n",
       "  <thead>\n",
       "    <tr style=\"text-align: right;\">\n",
       "      <th></th>\n",
       "      <th>created_utc</th>\n",
       "      <th>id</th>\n",
       "      <th>permalink</th>\n",
       "      <th>selftext</th>\n",
       "      <th>subreddit</th>\n",
       "      <th>subreddit_id</th>\n",
       "      <th>title</th>\n",
       "    </tr>\n",
       "  </thead>\n",
       "  <tbody>\n",
       "    <tr>\n",
       "      <th>805808</th>\n",
       "      <td>1413243425</td>\n",
       "      <td>2j5yi3</td>\n",
       "      <td>/r/askscience/comments/2j5yi3/any_safety_conce...</td>\n",
       "      <td>NaN</td>\n",
       "      <td>askscience</td>\n",
       "      <td>t5_2qm4e</td>\n",
       "      <td>Any safety concerns for infant in vibrating ro...</td>\n",
       "    </tr>\n",
       "    <tr>\n",
       "      <th>805809</th>\n",
       "      <td>1413243260</td>\n",
       "      <td>2j5y7b</td>\n",
       "      <td>/r/askscience/comments/2j5y7b/what_happens_whe...</td>\n",
       "      <td>NaN</td>\n",
       "      <td>askscience</td>\n",
       "      <td>t5_2qm4e</td>\n",
       "      <td>What happens when a heterochronic parabiont is...</td>\n",
       "    </tr>\n",
       "    <tr>\n",
       "      <th>805810</th>\n",
       "      <td>1413242837</td>\n",
       "      <td>2j5xhr</td>\n",
       "      <td>/r/askscience/comments/2j5xhr/how_come_all_obj...</td>\n",
       "      <td>NaN</td>\n",
       "      <td>askscience</td>\n",
       "      <td>t5_2qm4e</td>\n",
       "      <td>How come all objects in the solar system orbit...</td>\n",
       "    </tr>\n",
       "    <tr>\n",
       "      <th>805811</th>\n",
       "      <td>1413242735</td>\n",
       "      <td>2j5xbw</td>\n",
       "      <td>/r/askscience/comments/2j5xbw/falling/</td>\n",
       "      <td>NaN</td>\n",
       "      <td>askscience</td>\n",
       "      <td>t5_2qm4e</td>\n",
       "      <td>Falling</td>\n",
       "    </tr>\n",
       "    <tr>\n",
       "      <th>805812</th>\n",
       "      <td>1413242651</td>\n",
       "      <td>2j5x6o</td>\n",
       "      <td>/r/askscience/comments/2j5x6o/how_come_when_i_...</td>\n",
       "      <td>NaN</td>\n",
       "      <td>askscience</td>\n",
       "      <td>t5_2qm4e</td>\n",
       "      <td>How come when I go to bed hungry, I'm not hung...</td>\n",
       "    </tr>\n",
       "  </tbody>\n",
       "</table>\n",
       "</div>"
      ],
      "text/plain": [
       "        created_utc      id  \\\n",
       "805808   1413243425  2j5yi3   \n",
       "805809   1413243260  2j5y7b   \n",
       "805810   1413242837  2j5xhr   \n",
       "805811   1413242735  2j5xbw   \n",
       "805812   1413242651  2j5x6o   \n",
       "\n",
       "                                                permalink selftext  \\\n",
       "805808  /r/askscience/comments/2j5yi3/any_safety_conce...      NaN   \n",
       "805809  /r/askscience/comments/2j5y7b/what_happens_whe...      NaN   \n",
       "805810  /r/askscience/comments/2j5xhr/how_come_all_obj...      NaN   \n",
       "805811             /r/askscience/comments/2j5xbw/falling/      NaN   \n",
       "805812  /r/askscience/comments/2j5x6o/how_come_when_i_...      NaN   \n",
       "\n",
       "         subreddit subreddit_id  \\\n",
       "805808  askscience     t5_2qm4e   \n",
       "805809  askscience     t5_2qm4e   \n",
       "805810  askscience     t5_2qm4e   \n",
       "805811  askscience     t5_2qm4e   \n",
       "805812  askscience     t5_2qm4e   \n",
       "\n",
       "                                                    title  \n",
       "805808  Any safety concerns for infant in vibrating ro...  \n",
       "805809  What happens when a heterochronic parabiont is...  \n",
       "805810  How come all objects in the solar system orbit...  \n",
       "805811                                            Falling  \n",
       "805812  How come when I go to bed hungry, I'm not hung...  "
      ]
     },
     "execution_count": 77,
     "metadata": {},
     "output_type": "execute_result"
    }
   ],
   "source": [
    "# inspect science data - first and last five rows\n",
    "\n",
    "science.head()\n",
    "science.tail()"
   ]
  },
  {
   "cell_type": "markdown",
   "metadata": {},
   "source": [
    "**Time Stamps**"
   ]
  },
  {
   "cell_type": "code",
   "execution_count": 78,
   "metadata": {},
   "outputs": [
    {
     "name": "stdout",
     "output_type": "stream",
     "text": [
      "scifi\n",
      "Min 1201450476\n",
      "Max 1587328409\n",
      "\n",
      "science\n",
      "Min 1413242651\n",
      "Max 1587224485\n"
     ]
    }
   ],
   "source": [
    "# maximum and minimum timestamps of scifi\n",
    "\n",
    "print('scifi')\n",
    "print('Min', scifi['created_utc'].min())\n",
    "print('Max', scifi['created_utc'].max())\n",
    "print('')\n",
    "\n",
    "# maximum and minimum timestamps of science\n",
    "\n",
    "print('science')\n",
    "print('Min', science['created_utc'].min())\n",
    "print('Max', science['created_utc'].max())"
   ]
  },
  {
   "cell_type": "markdown",
   "metadata": {},
   "source": [
    "#### Drop Duplicate Rows"
   ]
  },
  {
   "cell_type": "markdown",
   "metadata": {},
   "source": [
    "**Science dataframe**"
   ]
  },
  {
   "cell_type": "code",
   "execution_count": 79,
   "metadata": {},
   "outputs": [],
   "source": [
    "# drop duplicates from dataset based on created_utc\n",
    "# keep first instances \n",
    "\n",
    "science.drop_duplicates('created_utc', inplace=True)"
   ]
  },
  {
   "cell_type": "markdown",
   "metadata": {},
   "source": [
    "**Scifi dataframe**"
   ]
  },
  {
   "cell_type": "code",
   "execution_count": 80,
   "metadata": {},
   "outputs": [],
   "source": [
    "# drop duplicates from scifi based on 'created_utc'\n",
    "\n",
    "scifi.drop_duplicates('created_utc', inplace=True)\n",
    "\n",
    "# source: https://pandas.pydata.org/pandas-docs/stable/reference/api/pandas.DataFrame.drop_duplicates.html"
   ]
  },
  {
   "cell_type": "markdown",
   "metadata": {},
   "source": [
    "#### Inspect the Dataframes"
   ]
  },
  {
   "cell_type": "code",
   "execution_count": 81,
   "metadata": {},
   "outputs": [],
   "source": [
    "# create function - to inspect data frame\n",
    "\n",
    "def inspect(dataframe):\n",
    "    print('Rows, columns:', dataframe.shape)\n",
    "    print('')\n",
    "    print(dataframe.info())      "
   ]
  },
  {
   "cell_type": "markdown",
   "metadata": {},
   "source": [
    "**Scifi dataframe**"
   ]
  },
  {
   "cell_type": "code",
   "execution_count": 82,
   "metadata": {},
   "outputs": [
    {
     "name": "stdout",
     "output_type": "stream",
     "text": [
      "Rows, columns: (96113, 7)\n",
      "\n",
      "<class 'pandas.core.frame.DataFrame'>\n",
      "Int64Index: 96113 entries, 0 to 96634\n",
      "Data columns (total 7 columns):\n",
      "created_utc     96113 non-null int64\n",
      "id              96113 non-null object\n",
      "permalink       96113 non-null object\n",
      "selftext        32266 non-null object\n",
      "subreddit       96113 non-null object\n",
      "subreddit_id    96113 non-null object\n",
      "title           96113 non-null object\n",
      "dtypes: int64(1), object(6)\n",
      "memory usage: 5.9+ MB\n",
      "None\n"
     ]
    }
   ],
   "source": [
    "# print info about scifi dataframe\n",
    "\n",
    "inspect(scifi)"
   ]
  },
  {
   "cell_type": "markdown",
   "metadata": {},
   "source": [
    "**Science dataframe**"
   ]
  },
  {
   "cell_type": "code",
   "execution_count": 83,
   "metadata": {},
   "outputs": [
    {
     "name": "stdout",
     "output_type": "stream",
     "text": [
      "Rows, columns: (805813, 7)\n",
      "\n",
      "<class 'pandas.core.frame.DataFrame'>\n",
      "Int64Index: 805813 entries, 0 to 805812\n",
      "Data columns (total 7 columns):\n",
      "created_utc     805813 non-null int64\n",
      "id              805813 non-null object\n",
      "permalink       805813 non-null object\n",
      "selftext        663535 non-null object\n",
      "subreddit       805810 non-null object\n",
      "subreddit_id    805810 non-null object\n",
      "title           805810 non-null object\n",
      "dtypes: int64(1), object(6)\n",
      "memory usage: 49.2+ MB\n",
      "None\n"
     ]
    }
   ],
   "source": [
    "# print info about science dataframe\n",
    "\n",
    "inspect(science)"
   ]
  },
  {
   "cell_type": "markdown",
   "metadata": {},
   "source": [
    "#### Missing Data"
   ]
  },
  {
   "cell_type": "code",
   "execution_count": 84,
   "metadata": {
    "scrolled": true
   },
   "outputs": [],
   "source": [
    "# create function to count missing values for columns \n",
    "\n",
    "def missings(column):\n",
    "#     print(f'{str(column)} dataframe')\n",
    "\n",
    "    # count of missing data in column\n",
    "    nans = column.isna().sum()\n",
    "    print(f'Number of NaNs: {nans}')\n",
    "\n",
    "    # create boolean array of column\n",
    "    # True = text was '[removed]'\n",
    "    removed = column == '[removed]'\n",
    "\n",
    "    # print number of missings because [removed]\n",
    "    print(f'Number of text [removed]: {removed.sum()}')\n",
    "    \n",
    "    # total number of rows where text is missing in a column\n",
    "    total = nans + removed.sum()\n",
    "    # print the number of rows where text is missing\n",
    "    print(f'Total missings: {total}')\n",
    "    \n",
    "    # print rate of missings in a column\n",
    "    print(f'Rate of missings: {round((total/column.shape[0])*100, 2)}%')\n",
    "\n",
    "    print('')"
   ]
  },
  {
   "cell_type": "code",
   "execution_count": 85,
   "metadata": {},
   "outputs": [
    {
     "name": "stdout",
     "output_type": "stream",
     "text": [
      "Scifi['selftext']\n",
      "Number of NaNs: 63847\n",
      "Number of text [removed]: 1450\n",
      "Total missings: 65297\n",
      "Rate of missings: 67.94%\n",
      "\n",
      "Scifi['title']\n",
      "Number of NaNs: 0\n",
      "Number of text [removed]: 0\n",
      "Total missings: 0\n",
      "Rate of missings: 0.0%\n",
      "\n",
      "Science['selftext']\n",
      "Number of NaNs: 142278\n",
      "Number of text [removed]: 604801\n",
      "Total missings: 747079\n",
      "Rate of missings: 92.71%\n",
      "\n",
      "Science['title']\n",
      "Number of NaNs: 3\n",
      "Number of text [removed]: 1\n",
      "Total missings: 4\n",
      "Rate of missings: 0.0%\n",
      "\n"
     ]
    }
   ],
   "source": [
    "# call missing_values function on scifi['selftext']\n",
    "print(\"Scifi['selftext']\")\n",
    "missings(scifi['selftext'])\n",
    "\n",
    "# call missing values function on scifi['title']\n",
    "print(\"Scifi['title']\")\n",
    "missings(scifi['title'])\n",
    "\n",
    "# call missing values function on science['selftext']\n",
    "print(\"Science['selftext']\")\n",
    "missings(science['selftext'])\n",
    "\n",
    "# call missing values functin on science['title']\n",
    "print(\"Science['title']\")\n",
    "missings(science['title'])"
   ]
  },
  {
   "cell_type": "markdown",
   "metadata": {},
   "source": [
    "Selftext (the text of the subreddit submission) is more prone to having missing or removed values than the title of the submission. Since, however, it is also richer in context-invoking words than the title, for the purposes of model building I use the selftext. "
   ]
  },
  {
   "cell_type": "markdown",
   "metadata": {},
   "source": [
    "#### Deleting Rows with Missing Data"
   ]
  },
  {
   "cell_type": "markdown",
   "metadata": {},
   "source": [
    "**Scifi dataframe - selftext:**"
   ]
  },
  {
   "cell_type": "code",
   "execution_count": 86,
   "metadata": {},
   "outputs": [
    {
     "data": {
      "text/plain": [
       "(24171, 7)"
      ]
     },
     "execution_count": 86,
     "metadata": {},
     "output_type": "execute_result"
    }
   ],
   "source": [
    "# scifi - selftext\n",
    "# remove rows where selftext is np.nan\n",
    "# remove rows where selftext is [removed]\n",
    "# remove rows where selftext is [deleted]\n",
    "# remove rows where selftext contains removed in itallics (\"\\[removed\\]\")\n",
    "\n",
    "scifi = scifi.loc[scifi['selftext'].notna() & (scifi['selftext'] != '[removed]') & (scifi['selftext'] != '[deleted]')\\\n",
    "                  & (scifi['selftext'] != \"\\[removed\\]\")]\n",
    "scifi.shape"
   ]
  },
  {
   "cell_type": "code",
   "execution_count": 87,
   "metadata": {},
   "outputs": [],
   "source": [
    "# define function to\n",
    "# turn values into np.nan where dataframe[column] contains [removed]\n",
    "\n",
    "def turn_nan(text):\n",
    "    if '[removed]' in text:\n",
    "        return np.nan\n",
    "    else:\n",
    "        return text\n",
    "\n",
    "# code taken from Greg Dye"
   ]
  },
  {
   "cell_type": "code",
   "execution_count": 88,
   "metadata": {},
   "outputs": [],
   "source": [
    "# run turn_nan function on scifi['selftext'] column\n",
    "\n",
    "scifi['selftext'] = scifi['selftext'].apply(turn_nan)"
   ]
  },
  {
   "cell_type": "code",
   "execution_count": 89,
   "metadata": {},
   "outputs": [
    {
     "data": {
      "text/plain": [
       "(24167, 7)"
      ]
     },
     "execution_count": 89,
     "metadata": {},
     "output_type": "execute_result"
    }
   ],
   "source": [
    "# delete rows where scifi['selftext'] is np.nan\n",
    "\n",
    "scifi = scifi.loc[scifi['selftext'].notna()]\n",
    "scifi.shape"
   ]
  },
  {
   "cell_type": "markdown",
   "metadata": {},
   "source": [
    "**Science dataframe - selftext:**"
   ]
  },
  {
   "cell_type": "code",
   "execution_count": 90,
   "metadata": {},
   "outputs": [
    {
     "data": {
      "text/plain": [
       "(56073, 7)"
      ]
     },
     "execution_count": 90,
     "metadata": {},
     "output_type": "execute_result"
    }
   ],
   "source": [
    "# science\n",
    "# remove rows where selftext is np.nan\n",
    "# remove rows where selftext is [removed]\n",
    "# remove rows where selftext is [deleted]\n",
    "\n",
    "science = science.loc[science['selftext'].notna() & (science['selftext'] != '[removed]') & (science['selftext'] != '[deleted]')\\\n",
    "                  & (science['selftext'] != \"\\[removed\\]\")]\n",
    "science.shape"
   ]
  },
  {
   "cell_type": "code",
   "execution_count": 91,
   "metadata": {},
   "outputs": [
    {
     "data": {
      "text/plain": [
       "0"
      ]
     },
     "execution_count": 91,
     "metadata": {},
     "output_type": "execute_result"
    }
   ],
   "source": [
    "# run turn_nan function on science['selftext'] column\n",
    "\n",
    "science['selftext'] = science['selftext'].apply(turn_nan)\n",
    "\n",
    "# check if there are rows where science['selftext'] has missing values\n",
    "\n",
    "science['selftext'].isna().sum()"
   ]
  },
  {
   "cell_type": "markdown",
   "metadata": {},
   "source": [
    "**Scifi dataframe - title:**"
   ]
  },
  {
   "cell_type": "code",
   "execution_count": 92,
   "metadata": {},
   "outputs": [
    {
     "name": "stdout",
     "output_type": "stream",
     "text": [
      "Scifi['title']\n",
      "Number of NaNs: 0\n",
      "Number of text [removed]: 0\n",
      "Total missings: 0\n",
      "Rate of missings: 0.0%\n",
      "\n"
     ]
    }
   ],
   "source": [
    "# call missing values function on scifi['title']\n",
    "print(\"Scifi['title']\")\n",
    "missings(scifi['title'])"
   ]
  },
  {
   "cell_type": "code",
   "execution_count": 93,
   "metadata": {},
   "outputs": [
    {
     "data": {
      "text/plain": [
       "0"
      ]
     },
     "execution_count": 93,
     "metadata": {},
     "output_type": "execute_result"
    }
   ],
   "source": [
    "# check if there are rows where [removed] is embedded in the text\n",
    "# if number of missings > 0 ==> delete rows where scifi['title'] is missing\n",
    "\n",
    "scifi['title'].apply(turn_nan)\n",
    "scifi['title'].isna().sum()"
   ]
  },
  {
   "cell_type": "markdown",
   "metadata": {},
   "source": [
    "There are no missings in the scifi dataframe's title column."
   ]
  },
  {
   "cell_type": "markdown",
   "metadata": {},
   "source": [
    "**Science dataframe - title:**"
   ]
  },
  {
   "cell_type": "code",
   "execution_count": 94,
   "metadata": {},
   "outputs": [
    {
     "name": "stdout",
     "output_type": "stream",
     "text": [
      "Science['title']\n",
      "Number of NaNs: 3\n",
      "Number of text [removed]: 0\n",
      "Total missings: 3\n",
      "Rate of missings: 0.01%\n",
      "\n"
     ]
    }
   ],
   "source": [
    "# call missing values functin on science['title']\n",
    "print(\"Science['title']\")\n",
    "missings(science['title'])"
   ]
  },
  {
   "cell_type": "code",
   "execution_count": 95,
   "metadata": {},
   "outputs": [
    {
     "data": {
      "text/plain": [
       "(56070, 7)"
      ]
     },
     "execution_count": 95,
     "metadata": {},
     "output_type": "execute_result"
    }
   ],
   "source": [
    "# remove the 3 rows with np.nan\n",
    "\n",
    "science = science.loc[science['title'].notna()]\n",
    "science.shape"
   ]
  },
  {
   "cell_type": "code",
   "execution_count": 96,
   "metadata": {},
   "outputs": [
    {
     "data": {
      "text/plain": [
       "0"
      ]
     },
     "execution_count": 96,
     "metadata": {},
     "output_type": "execute_result"
    }
   ],
   "source": [
    "# check if science['title'] has rows that contain '[removed]' embedded in the text\n",
    "# if number of missings > 0 ==> delete rows where science['title'] is missing\n",
    "\n",
    "science['title'].apply(turn_nan)\n",
    "science['title'].isna().sum()"
   ]
  },
  {
   "cell_type": "markdown",
   "metadata": {},
   "source": [
    "#### Create Combined Dataframe"
   ]
  },
  {
   "cell_type": "code",
   "execution_count": 97,
   "metadata": {},
   "outputs": [
    {
     "name": "stdout",
     "output_type": "stream",
     "text": [
      "scifi: 24167\n",
      "science: 56070\n"
     ]
    }
   ],
   "source": [
    "# dataframe size\n",
    "\n",
    "print(f'scifi: {scifi.shape[0]}')\n",
    "print(f'science: {science.shape[0]}')"
   ]
  },
  {
   "cell_type": "markdown",
   "metadata": {},
   "source": [
    "**Data**<br>\n",
    "**r/science:** df has 56_070 rows between time stamps: 1413242651 - 1587224485\n",
    "\n",
    "**r/scifi:** df has 24_167 rows between time stamps: 1201450476 - 1587328409\n",
    "\n",
    "Let's create a combined dataset by selecting a random sample of 24_167 rows from the r/science dataframe and add that to the r/scifi dataframe. This way, exactly half of the combined dataset will be from the scifi subreddit and half from the askscience subreddit."
   ]
  },
  {
   "cell_type": "code",
   "execution_count": 98,
   "metadata": {},
   "outputs": [
    {
     "data": {
      "text/plain": [
       "(24167, 7)"
      ]
     },
     "execution_count": 98,
     "metadata": {},
     "output_type": "execute_result"
    }
   ],
   "source": [
    "# select a random sample of 24_167 rows from science dataframe\n",
    "# set random_state at 1 for reproducibility\n",
    "\n",
    "science_small = science.sample(n=24_167, random_state=1)\n",
    "science_small.shape"
   ]
  },
  {
   "cell_type": "code",
   "execution_count": 99,
   "metadata": {},
   "outputs": [],
   "source": [
    "# create combined dataframe\n",
    "# use continuous indexing, drop original indexing\n",
    "\n",
    "data = scifi.append(science_small, ignore_index=True)"
   ]
  },
  {
   "cell_type": "code",
   "execution_count": 101,
   "metadata": {},
   "outputs": [],
   "source": [
    "# export data to csv file\n",
    "\n",
    "data.to_csv('./data/reddit_working.csv', index=False)"
   ]
  }
 ],
 "metadata": {
  "kernelspec": {
   "display_name": "Python 3",
   "language": "python",
   "name": "python3"
  },
  "language_info": {
   "codemirror_mode": {
    "name": "ipython",
    "version": 3
   },
   "file_extension": ".py",
   "mimetype": "text/x-python",
   "name": "python",
   "nbconvert_exporter": "python",
   "pygments_lexer": "ipython3",
   "version": "3.7.6"
  }
 },
 "nbformat": 4,
 "nbformat_minor": 4
}
