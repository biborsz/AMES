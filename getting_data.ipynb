{
 "cells": [
  {
   "cell_type": "markdown",
   "metadata": {},
   "source": [
    "## Science or Science Fiction?\n",
    "### Can we spot the difference? \n",
    "---\n",
    "#### Problem Statement\n",
    "\n",
    "1. Can a predictive model be built to classify a reddit submission into science or science fiction categories with a higher than 70% accuracy?\n",
    "2. Which model is the best at predicting the class of the content?\n",
    "3. Which pre-processing methods and estimator parameters prove to work best when predicting the class of the content?"
   ]
  },
  {
   "cell_type": "markdown",
   "metadata": {},
   "source": [
    "#### Data\n",
    "Data was gathered from two subreddits: askscience and scifi. (r/askscience: 18.9m members, r/scifi: 1.6m members)"
   ]
  },
  {
   "cell_type": "code",
   "execution_count": 1,
   "metadata": {},
   "outputs": [],
   "source": [
    "import pandas as pd\n",
    "import numpy as np\n",
    "\n",
    "import requests\n",
    "from time import sleep"
   ]
  },
  {
   "cell_type": "code",
   "execution_count": 2,
   "metadata": {},
   "outputs": [],
   "source": [
    "# render all columns visible in jupyter notebook\n",
    "\n",
    "pd.set_option('display.max_columns', None)\n",
    "pd.set_option('display.max_rows', None)\n",
    "pd.set_option('display.max_colwidth', 100)\n",
    "\n",
    "# https://towardsdatascience.com/how-to-show-all-columns-rows-of-a-pandas-dataframe-c49d4507fcf"
   ]
  },
  {
   "cell_type": "code",
   "execution_count": 3,
   "metadata": {},
   "outputs": [],
   "source": [
    "# web location of data\n",
    "\n",
    "url = 'https://api.pushshift.io/reddit/search/submission'"
   ]
  },
  {
   "cell_type": "code",
   "execution_count": 5,
   "metadata": {
    "scrolled": true
   },
   "outputs": [
    {
     "name": "stdout",
     "output_type": "stream",
     "text": [
      "0\n",
      "1\n"
     ]
    }
   ],
   "source": [
    "# for loop: get data from subreddit: askscience\n",
    "# set current time as before_time (https://www.epochconverter.com/)\n",
    "before_time = 1587328870\n",
    "\n",
    "# set data to None \n",
    "data = None\n",
    "\n",
    "# if reddit.csv already exists = read in file as data\n",
    "try:\n",
    "    data = pd.read_csv('./data/askscience.csv')\n",
    "# if not: start running for loop    \n",
    "except:\n",
    "    pass\n",
    "\n",
    "# for loop - get 1000 * 500 submissions at a time from r/askscience\n",
    "# get only selftext, title, subreddit name, epoch number (created_utc)\n",
    "# for id purposes (and in case we wanted to link submissions to comments later) get:\n",
    "        # subreddit_id, id, and permalink\n",
    "\n",
    "for i in range(1000):\n",
    "    try:\n",
    "         r = requests.get(\n",
    "                url,\n",
    "                params={\n",
    "                    'subreddit': 'askscience',\n",
    "                    'lang': True,\n",
    "                    'size': 500,\n",
    "                    'filter': ['selftext', 'title', 'subreddit', 'created_utc', 'subreddit_id', 'id', 'permalink'],\n",
    "                    'before': before_time\n",
    "        }\n",
    "        )\n",
    "\n",
    "        # decode json object\n",
    "        # create dataframe from decoded data as df\n",
    "        df = pd.DataFrame(r.json()['data'])\n",
    "\n",
    "        # if data is empty - overwrite with df\n",
    "        if data is None:\n",
    "            data = df\n",
    "        # if data not empty any more - add new data to dataframe\n",
    "        else: \n",
    "            data = pd.concat([data, df], axis=0)\n",
    "\n",
    "        # overwrite askscience.csv with new data\n",
    "        data.to_csv('./data/askscience.csv', index=False)\n",
    "\n",
    "        # look up the earliest timestamp of submissions\n",
    "        # overwrite before_time with new earliest timestamp (to get data from before that time in next iteration of the loop)\n",
    "        before_time = data['created_utc'].min()\n",
    "\n",
    "    # if for loop stops because of error\n",
    "    # print 'Loop restarted' (after 2 seconds sleep run 'try' again)\n",
    "        # idea of try-except to run code for a longer time without errors borrowed from Janos Sallai\n",
    "    except:\n",
    "        print('Loop restarted.')\n",
    "        \n",
    "    # let 2 second elapse between iterations\n",
    "    sleep(2)\n",
    "    print(i)"
   ]
  },
  {
   "cell_type": "code",
   "execution_count": 4,
   "metadata": {
    "scrolled": true
   },
   "outputs": [
    {
     "name": "stdout",
     "output_type": "stream",
     "text": [
      "dataframe has 96635 rows\n",
      "0\n",
      "dataframe has 96635 rows\n",
      "1\n"
     ]
    }
   ],
   "source": [
    "# for loop: get data from subreddit: scifi\n",
    "# set current time as before_time (https://www.epochconverter.com/)\n",
    "before_time = 1587328870\n",
    "\n",
    "# set data to None \n",
    "data = None\n",
    "\n",
    "# if scifi.csv already exists = read in file as data\n",
    "try:\n",
    "    data = pd.read_csv('./data/scifi_new.csv')\n",
    "# if not: start loop    \n",
    "except:\n",
    "    pass\n",
    "\n",
    "# if we already have data from the before_time set above:\n",
    "# in order to get earlier submissions that we already have\n",
    "# set before_time to the smallest created_utc in the existing file \n",
    "if before_time > data['created_utc'].min():\n",
    "        before_time = data['created_utc'].min()\n",
    "        \n",
    "# for-loop - get 500 submissions at a time from r/scifi\n",
    "# get only selftext, title, subreddit name, epoch number (created_utc)\n",
    "# for id purposes (and in case we wanted to link submissions to comments later) get:\n",
    "        # subreddit_id, id, and permalink\n",
    "for i in range(1000):\n",
    "\n",
    "    r = requests.get(\n",
    "            url,\n",
    "            params={\n",
    "                'subreddit': 'scifi',\n",
    "                'lang': True,\n",
    "                'size': 500,\n",
    "                'filter': ['selftext', 'title', 'subreddit', 'created_utc', 'subreddit_id', 'id', 'permalink'],\n",
    "                'before': before_time\n",
    "    }\n",
    "    )\n",
    "\n",
    "    # decode json object\n",
    "    # create dataframe from decoded data as df\n",
    "    df = pd.DataFrame(r.json()['data'])\n",
    "\n",
    "    # if data is empty - overwrite with df\n",
    "    if data is None:\n",
    "        data = df\n",
    "    # if data not empty any more - add new data to dataframe\n",
    "    else: \n",
    "        data = pd.concat([data, df], axis=0)\n",
    "\n",
    "    # overwrite reddit.csv with new data\n",
    "    data.to_csv('./data/scifi_new.csv', index=False)\n",
    "\n",
    "    # look up the earliest timestamp of submissions\n",
    "    # overwrite before_time with new earliest timestamp (to get data from before that time in next iteration of the loop)\n",
    "    before_time = data['created_utc'].min()\n",
    "        \n",
    "    # let 2 second elapse between iterations\n",
    "    sleep(2)\n",
    "    print(i)"
   ]
  },
  {
   "cell_type": "markdown",
   "metadata": {},
   "source": [
    "Data collected and saved in [scifi_new.csv](./data/scifi_new.csv) and in [askscience.csv](./data/askscience.csv)"
   ]
  }
 ],
 "metadata": {
  "kernelspec": {
   "display_name": "Python 3",
   "language": "python",
   "name": "python3"
  },
  "language_info": {
   "codemirror_mode": {
    "name": "ipython",
    "version": 3
   },
   "file_extension": ".py",
   "mimetype": "text/x-python",
   "name": "python",
   "nbconvert_exporter": "python",
   "pygments_lexer": "ipython3",
   "version": "3.7.6"
  }
 },
 "nbformat": 4,
 "nbformat_minor": 4
}
